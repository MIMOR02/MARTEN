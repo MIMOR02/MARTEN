{
 "cells": [
  {
   "cell_type": "markdown",
   "metadata": {},
   "source": [
    "# Morizono-Lidz Cellular Automata Simulator\n",
    "\n",
    "This project was inspired by Wolfram's Elementary Cellular Automata. These are 1D cellular atomata, meaning each generation is just an array. The arrays contain single bits, which transform over subsequent generations. They transform based on a given ruleset, which can be encoded as a binary octet.\n",
    "\n",
    "In this project, we will atempt a more complex simulation which can handle a 1D array of rgb triplets (either an array of rgb values or a hexit sextet. There are clearly many more possible rules ( 2^72 possible neighborhoods that need to be encoded to 2^24 states). \n",
    "\n",
    "We will start with a smaller color set as proof of concept, and will try to extend to a larger variety of colors.\n",
    "\n",
    "## Hopes:\n",
    "- completely chaotic colors\n",
    "- cool randomness that can be explored\n",
    "\n",
    "## Concerns:\n",
    "- way to many rules to implement\n",
    "- efficiency?\n",
    "\n",
    "## Plans:\n",
    "- randomize rules initially, then save them to afterwards\n",
    "- use dictionaries to quickly traverse states (may be too big)\n",
    "- create a function that calcultes new color instead of searching for a given triple\n"
   ]
  },
  {
   "cell_type": "code",
   "execution_count": 60,
   "metadata": {},
   "outputs": [],
   "source": [
    "import numpy as np\n",
    "from matplotlib import pyplot as plt\n",
    "import random"
   ]
  },
  {
   "cell_type": "markdown",
   "metadata": {},
   "source": [
    "## Testing Array to Image conversion\n",
    "\n",
    "Proof that we can convert between a numpy array and a visual image"
   ]
  },
  {
   "cell_type": "code",
   "execution_count": 41,
   "metadata": {},
   "outputs": [
    {
     "data": {
      "image/png": "[encoded data removed]",
      "text/plain": [
       "<Figure size 432x288 with 1 Axes>"
      ]
     },
     "metadata": {
      "needs_background": "light"
     },
     "output_type": "display_data"
    }
   ],
   "source": [
    "data = np.zeros( (1024,1024,3), dtype=np.uint8)\n",
    "for x in range(len(data)):\n",
    "    for y in range(len(data[x])):\n",
    "        if (x>200 and x<300) and (y>200 and y<300):\n",
    "            data[x,y] = [20,175,140]\n",
    "plt.imshow(data, interpolation='nearest')\n",
    "plt.show()"
   ]
  },
  {
   "cell_type": "markdown",
   "metadata": {},
   "source": [
    "## Testing Binary Triplet Colors\n",
    "\n",
    "Testing color encoding with a rule triplet. Colors channels will be transformed individually and then recombined for the final image\n",
    "\n",
    "We currently have 8 possible colors: 000, 001, 010, 011, 100, 101, 110, 111\n",
    "If we split this into 3 color channels, we can just create 3 elementary cellular automata. \n",
    "\n",
    "This is effectively a very low threshold simulator\n",
    "\n",
    "### Defining Rules"
   ]
  },
  {
   "cell_type": "code",
   "execution_count": 42,
   "metadata": {},
   "outputs": [],
   "source": [
    "\n",
    "def decimalToBinary(n): \n",
    "    return format(int(n),'#010b')\n",
    "\n",
    "def rule(a, b , c, Rule):\n",
    "    triple = str(a)+str(b)+str(c)\n",
    "    rules = {\"000\": decimalToBinary(Rule)[2],\"001\": decimalToBinary(Rule)[3],\n",
    "            \"010\": decimalToBinary(Rule)[4],\"011\": decimalToBinary(Rule)[5],\n",
    "            \"100\": decimalToBinary(Rule)[6],\"101\": decimalToBinary(Rule)[7],\n",
    "            \"110\": decimalToBinary(Rule)[8],\"111\": decimalToBinary(Rule)[9]}\n",
    "    return rules[triple]"
   ]
  },
  {
   "cell_type": "markdown",
   "metadata": {},
   "source": [
    "### Wolfram's Elementary Cellular Automata (thrice)"
   ]
  },
  {
   "cell_type": "code",
   "execution_count": 53,
   "metadata": {},
   "outputs": [],
   "source": [
    "def splitChannels(state):\n",
    "    return state[:,0], state[:,1],state[:,2]\n",
    "                               \n",
    "def Wolfram(state, Rule):\n",
    "    next_state = []\n",
    "    for i in range(len(state)):\n",
    "        if i == 0:\n",
    "            next_state.append(rule(0,state[i],state[i+1], Rule))\n",
    "        elif i == len(state)-1:\n",
    "            next_state.append(rule(state[i-1],state[i],0, Rule))\n",
    "        else:\n",
    "            next_state.append(rule(state[i-1],state[i],state[i+1], Rule))\n",
    "                \n",
    "    return next_state"
   ]
  },
  {
   "cell_type": "code",
   "execution_count": 94,
   "metadata": {
    "scrolled": true
   },
   "outputs": [
    {
     "data": {
      "image/png": "[encoded data removed]",
      "text/plain": [
       "<Figure size 432x288 with 1 Axes>"
      ]
     },
     "metadata": {
      "needs_background": "light"
     },
     "output_type": "display_data"
    }
   ],
   "source": [
    "generations = 1024\n",
    "RedRule = 110\n",
    "GreenRule = 0\n",
    "BlueRule = 255\n",
    "image = np.random.randint(2, size =(generations, 1024, 3))\n",
    "start_state = np.random.randint(2, size = (1,1024,3))\n",
    "#start_state = np.zeros((1,1024,3), dtype=np.uint8)\n",
    "#start_state[0][random.randint(1,1024)] = np.array([1,0,0])\n",
    "\n",
    "\n",
    "\n",
    "image[0] = start_state[0]\n",
    "for n in range(1,generations):\n",
    "    next_state = []\n",
    "    red,green,blue = splitChannels(image[n-1])\n",
    "    red_state = Wolfram(red,RedRule)\n",
    "    green_state = Wolfram(green,GreenRule)\n",
    "    blue_state = Wolfram(blue,BlueRule)\n",
    "    for i in range(1024):\n",
    "        next_state.append([red_state[i],green_state[i],blue_state[i]])\n",
    "    image[n] = np.array(next_state)\n",
    "data = image*255\n",
    "plt.imshow(data, interpolation='nearest')\n",
    "plt.show()\n"
   ]
  },
  {
   "cell_type": "code",
   "execution_count": null,
   "metadata": {},
   "outputs": [],
   "source": []
  }
 ],
 "metadata": {
  "kernelspec": {
   "display_name": "Python 3",
   "language": "python",
   "name": "python3"
  },
  "language_info": {
   "codemirror_mode": {
    "name": "ipython",
    "version": 3
   },
   "file_extension": ".py",
   "mimetype": "text/x-python",
   "name": "python",
   "nbconvert_exporter": "python",
   "pygments_lexer": "ipython3",
   "version": "3.7.6"
  }
 },
 "nbformat": 4,
 "nbformat_minor": 4
}
